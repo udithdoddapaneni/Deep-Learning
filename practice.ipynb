{
 "cells": [
  {
   "cell_type": "code",
   "execution_count": 3,
   "metadata": {},
   "outputs": [],
   "source": [
    "import numpy as np\n",
    "import idx2numpy as idx\n",
    "import matplotlib.pyplot as plt\n",
    "\n",
    "i = 0\n",
    "\n",
    "file = \"mnist dataset/train-labels.idx1-ubyte\"\n",
    "labels = idx.convert_from_file(file)\n",
    "\n",
    "file = \"mnist dataset/train-images.idx3-ubyte\"\n",
    "images = idx.convert_from_file(file)\n",
    "# plt.imshow(images[i], cmap = plt.cm.binary)\n",
    "\n",
    "def linearizeOne(image):\n",
    "    arr = [0]*len(image)*len(image)\n",
    "    i = 0\n",
    "    for j in range(len(image)):\n",
    "        for k in range(len(image[0])):\n",
    "            arr[i] = image[j][k]\n",
    "            i += 1\n",
    "    return arr\n",
    "\n",
    "def linearizeAll(images):\n",
    "    arr = [0]*len(images)\n",
    "    for i in range(len(images)):        \n",
    "        arr[i] = linearizeOne(images[i])\n",
    "    return np.array(arr)/1000\n",
    "\n",
    "def fix_labels(labels):\n",
    "    arr = [0]*len(labels)\n",
    "    for i in range(len(labels)):\n",
    "        arr[i] = [labels[i]]\n",
    "    return np.array(arr)"
   ]
  },
  {
   "cell_type": "code",
   "execution_count": 4,
   "metadata": {},
   "outputs": [],
   "source": [
    "training_inputs = linearizeAll(images)\n",
    "training_outputs = fix_labels(labels)\n",
    "# clearing memory\n",
    "labels = []\n",
    "images = []\n",
    "\n"
   ]
  },
  {
   "cell_type": "code",
   "execution_count": 1,
   "metadata": {},
   "outputs": [],
   "source": [
    "class NeuralNet:\n",
    "\n",
    "    def __init__(self, sizes): # sizes tell how many neurons are there in each layer from input to output\n",
    "        self.sizes = sizes\n",
    "        self.num_layers = len(sizes)\n",
    "        self.biases = [np.random.randn(i,1) for i in self.sizes[1:]] # output or intermediate number of biases. a column matrix\n",
    "        self.weights = [np.random.randn(self.sizes[i+1], self.sizes[i]) for i in range(self.num_layers-1)] # prev_layer X curr_layer dimension\n",
    "\n",
    "    def sigmoid(self, z):\n",
    "        return 1/(1 + np.exp(-z))\n",
    "    \n",
    "    def sigmoid_derivative(self, z):\n",
    "        return self.sigmoid(z)*(1-self.sigmoid(z))\n",
    "    \n",
    "    def feedforward(self, a):\n",
    "        for w,b in zip(self.weights, self.biases):\n",
    "            a = self.sigmoid(np.dot(w,a) + b)\n",
    "        return a\n",
    "    \n",
    "    def cost_derivative(self, a, y):\n",
    "        return a-y\n",
    "\n",
    "    def backprop(self, x, y): # return delta_b and delta_a arrays\n",
    "        # x is input and y is output\n",
    "\n",
    "        delta_w = [np.zeros(w.shape) for w in self.weights]    \n",
    "        delta_b = [np.zeros(b.shape) for b in self.biases]\n",
    "    \n",
    "        # forward pass\n",
    "        activation = x\n",
    "        activations = [x]\n",
    "        zs = []\n",
    "        for w,b in zip(self.weights, self.biases):\n",
    "            z = np.dot(w, activation)+b\n",
    "            zs.append(z)\n",
    "            activation = self.sigmoid(z)\n",
    "            activations.append(activation)\n",
    "\n",
    "        # backward pass\n",
    "\n",
    "        delta = self.cost_derivative(activations[-1])*self.sigmoid_derivative(zs[-1])\n",
    "        delta_b[-1] = delta\n",
    "        delta_w[-1] = np.dot(delta, activations[-2].T)\n",
    "\n",
    "        for i in range(2, self.num_layers):\n",
    "            z = zs[-i]\n",
    "            delta = np.dot(self.weights[-i+1].T, self.weights) * self.sigmoid_derivative(z)\n",
    "            delta_b[-i] = delta\n",
    "            delta_w[-i] = np.dot(delta, activations[-i-1].T)\n",
    "\n",
    "        return (delta_w, delta_b)\n",
    "    \n",
    "\n",
    "\n",
    "\n",
    "        "
   ]
  },
  {
   "cell_type": "code",
   "execution_count": 34,
   "metadata": {},
   "outputs": [
    {
     "name": "stdout",
     "output_type": "stream",
     "text": [
      "7.920000000000001\n"
     ]
    }
   ],
   "source": []
  }
 ],
 "metadata": {
  "kernelspec": {
   "display_name": "Python 3",
   "language": "python",
   "name": "python3"
  },
  "language_info": {
   "codemirror_mode": {
    "name": "ipython",
    "version": 3
   },
   "file_extension": ".py",
   "mimetype": "text/x-python",
   "name": "python",
   "nbconvert_exporter": "python",
   "pygments_lexer": "ipython3",
   "version": "3.10.12"
  }
 },
 "nbformat": 4,
 "nbformat_minor": 2
}
